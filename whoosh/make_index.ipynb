{
 "cells": [
  {
   "cell_type": "code",
   "execution_count": null,
   "metadata": {},
   "outputs": [],
   "source": [
    "import os\n",
    "import sys\n",
    "sys.path.insert(0, os.path.abspath(os.path.join('..', 'src')))\n",
    "import pandas as pd\n",
    "import numpy as np\n",
    "\n",
    "'''Load models:'''\n",
    "from whoosh.index import create_in\n",
    "from whoosh.index import open_dir\n",
    "from whoosh.fields import Schema, TEXT\n",
    "from whoosh.qparser import MultifieldParser,OrGroup, query\n",
    "from whoosh import scoring\n",
    "from whoosh import highlight\n",
    "import os, os.path"
   ]
  },
  {
   "cell_type": "code",
   "execution_count": null,
   "metadata": {},
   "outputs": [],
   "source": [
    "df = pd.read_csv.(os.path.abspath(os.path.join('..', 'data/processed/'))+\"/taxonomy_final.csv\", index=False)"
   ]
  },
  {
   "cell_type": "code",
   "execution_count": null,
   "metadata": {},
   "outputs": [],
   "source": [
    "'''create directory to save whoosh indeces:'''\n",
    "if os.path.exists(os.path.abspath(os.path.join('whoosh'))):\n",
    "    shutil.rmtree(os.path.abspath(os.path.join('whoosh')))\n",
    "os.mkdir(os.path.abspath(os.path.join('whoosh')))\n",
    "\n",
    "schema = Schema(PIMS_ID=TEXT(stored=True), \n",
    "                leading_country=TEXT(stored=True), \n",
    "                title=TEXT(stored=True), \n",
    "                all_text=TEXT(stored=True) ,\n",
    "                all_text_clean=TEXT(stored=True), \n",
    "                all_text_clean_spacy=TEXT(stored=True))\n",
    "ix = create_in(os.path.abspath(os.path.join('whoosh')), schema)\n",
    "writer = ix.writer()\n",
    "\n",
    "for i in df.index:                                         \n",
    "    writer.add_document(PIMS_ID = str(df.loc[i,\"PIMS_ID\"]), \n",
    "                      leading_country = str(df.loc[i, \"leading_country\"]),\n",
    "                      title = str(df.loc[i, \"title\"]),\n",
    "                      all_text = str(df.loc[i, \"all_text\"]),\n",
    "                      all_text_clean = str(df.loc[i, \"all_text_clean\"]),\n",
    "                       all_text_clean_spacy = str(df.loc[i, \"all_text_clean_spacy\"])) \n",
    "writer.commit()"
   ]
  },
  {
   "cell_type": "code",
   "execution_count": null,
   "metadata": {},
   "outputs": [],
   "source": [
    "from whoosh.index import open_dir\n",
    "ix = open_dir(os.path.abspath(os.path.join('whoosh')))"
   ]
  },
  {
   "cell_type": "code",
   "execution_count": null,
   "metadata": {},
   "outputs": [],
   "source": [
    "'''Set parameters and variables for search:'''\n",
    "question = 'chemical and waste'\n",
    "#question = 'How much was the chemical sector in Vietnam growing for the period 1990 – 2004?'\n",
    "#question = 'In what substances are higher levels of chemicals of concern found?'\n",
    "\n",
    "\n",
    "weighting_type = scoring.BM25F()\n",
    "fields = ['all_text']\n",
    "#allow_q = query.Term(\"Lead_Country\", \"Vietnam\")\n",
    "og = OrGroup.factory(0.9) #bonus scaler\n",
    "\n",
    "'''Parse Search:'''\n",
    "parser = MultifieldParser(fields, ix.schema, group = og)\n",
    "q = parser.parse(question)"
   ]
  },
  {
   "cell_type": "code",
   "execution_count": null,
   "metadata": {},
   "outputs": [],
   "source": [
    "pims = []\n",
    "title = []\n",
    "with ix.searcher(weighting = weighting_type) as s:\n",
    "  results = s.search(q, limit = 10)\n",
    "  results.fragmenter = highlight.SentenceFragmenter()\n",
    "  results.formatter = highlight.UppercaseFormatter()\n",
    "  print('--------------------------')\n",
    "  print('Question:', question)\n",
    "  print('--------------------------')\n",
    "  print('--------------------------')\n",
    "  print(\"Search Results for most relevant document - searched in\", fields, \":\")\n",
    "  for res in results:\n",
    "    pims.append(res['PIMS_ID'])\n",
    "    title.append(res['title'])\n",
    "    print('-------------')\n",
    "    print('document:', res['PIMS_ID'], res['title'])\n",
    "summary = dict(zip(pims, title))\n",
    "summary = pd.DataFrame(summary.items(), columns=['PIMS_ID', 'title'])"
   ]
  }
 ],
 "metadata": {
  "kernelspec": {
   "display_name": "Python 3",
   "language": "python",
   "name": "python3"
  },
  "language_info": {
   "codemirror_mode": {
    "name": "ipython",
    "version": 3
   },
   "file_extension": ".py",
   "mimetype": "text/x-python",
   "name": "python",
   "nbconvert_exporter": "python",
   "pygments_lexer": "ipython3",
   "version": "3.8.5"
  }
 },
 "nbformat": 4,
 "nbformat_minor": 4
}
